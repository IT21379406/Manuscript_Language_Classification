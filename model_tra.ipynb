{
  "cells": [
    {
      "cell_type": "markdown",
      "metadata": {
        "id": "view-in-github",
        "colab_type": "text"
      },
      "source": [
        "<a href=\"https://colab.research.google.com/github/IT21379406/Manuscript_Language_Classification/blob/main/model_tra.ipynb\" target=\"_parent\"><img src=\"https://colab.research.google.com/assets/colab-badge.svg\" alt=\"Open In Colab\"/></a>"
      ]
    },
    {
      "cell_type": "code",
      "execution_count": 1,
      "metadata": {
        "id": "i7Pt1GOUZBLl"
      },
      "outputs": [],
      "source": [
        "import numpy as np\n",
        "import pandas as pd\n",
        "import matplotlib.pyplot as plt\n",
        "import tensorflow as tf\n",
        "\n",
        "from tensorflow import keras\n",
        "from tensorflow.keras import layers"
      ]
    },
    {
      "cell_type": "code",
      "source": [
        "from google.colab import drive\n",
        "drive.mount('/content/drive')"
      ],
      "metadata": {
        "colab": {
          "base_uri": "https://localhost:8080/"
        },
        "id": "2Kt53JAcq1cU",
        "outputId": "b82e4687-af5d-449b-e3ba-92452d1c92de"
      },
      "execution_count": 2,
      "outputs": [
        {
          "output_type": "stream",
          "name": "stdout",
          "text": [
            "Mounted at /content/drive\n"
          ]
        }
      ]
    },
    {
      "cell_type": "code",
      "execution_count": null,
      "metadata": {
        "id": "zhZqfdobZBLp"
      },
      "outputs": [],
      "source": [
        "data_train_path = '/content/drive/MyDrive/Research/manuscript_image_set/training_dataset'\n",
        "data_validation_path = '/content/drive/MyDrive/Research/manuscript_image_set/validation_dataset'\n",
        "data_test_path = '/content/drive/MyDrive/Research/manuscript_image_set/testing_dataset'"
      ]
    },
    {
      "cell_type": "code",
      "execution_count": null,
      "metadata": {
        "id": "pTJTkVqwZBLq"
      },
      "outputs": [],
      "source": [
        "img_width = 180\n",
        "img_height = 180"
      ]
    },
    {
      "cell_type": "code",
      "execution_count": null,
      "metadata": {
        "id": "BkdbRZvaZBLr"
      },
      "outputs": [],
      "source": [
        "data_train = tf.keras.utils.image_dataset_from_directory(\n",
        "    data_train_path,\n",
        "    shuffle=True,\n",
        "    image_size=(img_width, img_height),\n",
        "    batch_size=32,\n",
        "    validation_split=False\n",
        ")"
      ]
    },
    {
      "cell_type": "code",
      "execution_count": null,
      "metadata": {
        "id": "IEsJ4r4yZBLr"
      },
      "outputs": [],
      "source": [
        "data_cat = data_train.class_names"
      ]
    },
    {
      "cell_type": "code",
      "execution_count": null,
      "metadata": {
        "id": "8svw5hZ2ZBLr"
      },
      "outputs": [],
      "source": [
        "data_val = tf.keras.utils.image_dataset_from_directory(\n",
        "    data_validation_path,\n",
        "    image_size=(img_width, img_height),\n",
        "    batch_size=32,\n",
        "    shuffle=False,\n",
        "    validation_split=False\n",
        ")"
      ]
    },
    {
      "cell_type": "code",
      "execution_count": null,
      "metadata": {
        "id": "ql56QQmMZBLs"
      },
      "outputs": [],
      "source": [
        "data_test = tf.keras.utils.image_dataset_from_directory(\n",
        "    data_test_path,\n",
        "    image_size=(img_width, img_height),\n",
        "    batch_size=32,\n",
        "    shuffle=False,\n",
        "    validation_split=False\n",
        ")"
      ]
    },
    {
      "cell_type": "code",
      "execution_count": null,
      "metadata": {
        "id": "QoToLSGEZBLs"
      },
      "outputs": [],
      "source": [
        "plt.figure(figsize=(10,10))\n",
        "for image, labels in data_train.take(1):\n",
        "    for i in range(9):\n",
        "        plt.subplot(3,3,i+1)\n",
        "        plt.imshow(image[i].numpy().astype('uint8'))\n",
        "        plt.title(data_cat[labels[i]])\n",
        "        plt.axis('off')"
      ]
    },
    {
      "cell_type": "code",
      "execution_count": null,
      "metadata": {
        "id": "NB_Wg1I6ZBLs"
      },
      "outputs": [],
      "source": [
        "from tensorflow.keras import Sequential, layers"
      ]
    },
    {
      "cell_type": "code",
      "execution_count": null,
      "metadata": {
        "id": "YVhvUiGsZBLt"
      },
      "outputs": [],
      "source": [
        "data_augmentation = tf.keras.Sequential([\n",
        "    layers.RandomFlip('horizontal'),\n",
        "    layers.RandomRotation(0.2),\n",
        "    layers.RandomZoom(0.2),\n",
        "])"
      ]
    },
    {
      "cell_type": "code",
      "execution_count": null,
      "metadata": {
        "id": "rNHuAf1EZBLu"
      },
      "outputs": [],
      "source": [
        "model = Sequential([\n",
        "    data_augmentation,\n",
        "    layers.Rescaling(1./255, input_shape=(180, 180, 3)),\n",
        "    layers.Conv2D(16, 3, padding='same', activation='relu'),\n",
        "    layers.MaxPooling2D(),\n",
        "    layers.Conv2D(32, 3, padding='same', activation='relu'),\n",
        "    layers.MaxPooling2D(),\n",
        "    layers.Conv2D(64, 3, padding='same', activation='relu'),\n",
        "    layers.MaxPooling2D(),\n",
        "    layers.Flatten(),\n",
        "    layers.Dropout(0.4),\n",
        "    layers.Dense(128, activation='relu'),\n",
        "    layers.Dense(len(data_cat), activation='softmax')\n",
        "])"
      ]
    },
    {
      "cell_type": "code",
      "execution_count": null,
      "metadata": {
        "id": "bmpLs9fLZBLu"
      },
      "outputs": [],
      "source": [
        "model.compile(\n",
        "    optimizer='adam',\n",
        "    loss=tf.keras.losses.SparseCategoricalCrossentropy(from_logits=True),\n",
        "    metrics=['accuracy']\n",
        ")"
      ]
    },
    {
      "cell_type": "code",
      "execution_count": null,
      "metadata": {
        "id": "_PAUi0m4ZBLu"
      },
      "outputs": [],
      "source": [
        "epoches_size=5\n",
        "history=model.fit(data_train, validation_data=data_val, epochs=epoches_size)"
      ]
    },
    {
      "cell_type": "code",
      "execution_count": null,
      "metadata": {
        "id": "lI_GI1DKZBLu"
      },
      "outputs": [],
      "source": [
        "epochs_range = range(epoches_size)\n",
        "plt.figure(figsize=(4, 4))\n",
        "\n",
        "plt.subplot(1, 2, 1)\n",
        "plt.plot(epochs_range, history.history['accuracy'], label='Training Accuracy')\n",
        "plt.plot(epochs_range, history.history['val_accuracy'], label='Validation Accuracy')\n",
        "plt.title('Accuracy')\n",
        "plt.legend()\n",
        "\n",
        "plt.subplot(1, 2, 2)\n",
        "plt.plot(epochs_range, history.history['loss'], label='Training Loss')\n",
        "plt.plot(epochs_range, history.history['val_loss'], label='Validation Loss')\n",
        "plt.title('Loss')\n",
        "plt.legend()\n",
        "\n",
        "plt.show()"
      ]
    },
    {
      "cell_type": "code",
      "execution_count": null,
      "metadata": {
        "id": "dSvDW41BZBLv"
      },
      "outputs": [],
      "source": [
        "from sklearn.metrics import confusion_matrix, ConfusionMatrixDisplay, accuracy_score"
      ]
    },
    {
      "cell_type": "code",
      "execution_count": null,
      "metadata": {
        "id": "vSH4iN-gZBLv"
      },
      "outputs": [],
      "source": [
        "true_labels = np.concatenate([labels.numpy() for _, labels in data_test])\n",
        "predictions = model.predict(data_test)\n",
        "predicted_labels = np.argmax(predictions, axis=1)"
      ]
    },
    {
      "cell_type": "code",
      "execution_count": null,
      "metadata": {
        "id": "8idyYZVwZBLv"
      },
      "outputs": [],
      "source": [
        "accuracy = accuracy_score(true_labels, predicted_labels)\n",
        "print(f\"Testing Accuracy: {accuracy * 100:.2f}%\")"
      ]
    },
    {
      "cell_type": "code",
      "execution_count": null,
      "metadata": {
        "id": "IeWVvsqBZBLv"
      },
      "outputs": [],
      "source": [
        "cm = confusion_matrix(true_labels, predicted_labels)\n",
        "\n",
        "class_names = data_cat\n",
        "disp = ConfusionMatrixDisplay(confusion_matrix=cm, display_labels=class_names)\n",
        "disp.plot(cmap=plt.cm.Blues)\n",
        "plt.title(\"Confusion Matrix\")\n",
        "plt.show()"
      ]
    },
    {
      "cell_type": "code",
      "execution_count": null,
      "metadata": {
        "id": "BG1k23MHZBLv"
      },
      "outputs": [],
      "source": [
        "model.save('./language_identifier.h5')"
      ]
    }
  ],
  "metadata": {
    "kernelspec": {
      "display_name": "venv",
      "language": "python",
      "name": "python3"
    },
    "language_info": {
      "codemirror_mode": {
        "name": "ipython",
        "version": 3
      },
      "file_extension": ".py",
      "mimetype": "text/x-python",
      "name": "python",
      "nbconvert_exporter": "python",
      "pygments_lexer": "ipython3",
      "version": "3.12.1"
    },
    "colab": {
      "provenance": [],
      "include_colab_link": true
    }
  },
  "nbformat": 4,
  "nbformat_minor": 0
}